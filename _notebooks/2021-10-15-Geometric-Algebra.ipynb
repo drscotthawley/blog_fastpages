{
 "cells": [
  {
   "cell_type": "markdown",
   "metadata": {},
   "source": [
    "# Learning Some Geometric/Clifford Algebra\n",
    ">  It's time I stopped being scared of the words \"Clifford algebra\"\n",
    "\n",
    "- toc: true \n",
    "- badges: true\n",
    "- comments: true\n",
    "- author: Scott H. Hawley\n",
    "- image: images/cliffords.png"
   ]
  },
  {
   "cell_type": "markdown",
   "metadata": {
    "nbsphinx": "hidden"
   },
   "source": [
    "--- \n",
    "\n",
    "### *Work in progress / Still writing this one!*  Oct 15, 2021\n",
    "\n",
    "---\n"
   ]
  },
  {
   "cell_type": "markdown",
   "metadata": {},
   "source": [
    "## Motiviations\n",
    "1. The recent paper, [\"Lightweight Convolutional Neural Networks By Hypercomplex Parameterization\"](https://arxiv.org/abs/2110.04176). i.e, the potential for interesting (multichannel audio) signal processing applications of deep learning + hypercomplex numbers. \n",
    "2. The fact that, even as theoretical physicist (of *classical field theory*), I never learned enough about particle physics / QFT because I hated Dirac spinors, Pauli matrices, quaternions, and such.  Thus this is an attempt to finally overcome my ignorance and aversion to an important and useful area of mathematics/physics!\n",
    "\n",
    "## References I'm finding to be helpful\n",
    "\n",
    "* [Slehars' blog post](https://slehar.wordpress.com/2014/03/18/clifford-algebra-a-visual-introduction/comment-page-2/?unapproved=1590&moderation-hash=571d6eb02d897393899feffd4dddca41#comment-1590)\n",
    "\n",
    "* [This 3blue1brown-*style* video](https://www.youtube.com/watch?v=60z_hpEAtD8):"
   ]
  },
  {
   "cell_type": "code",
   "execution_count": 83,
   "metadata": {},
   "outputs": [
    {
     "data": {
      "image/jpeg": "[encoded data removed]",
      "text/html": [
       "\n",
       "        <iframe\n",
       "            width=\"400\"\n",
       "            height=\"300\"\n",
       "            src=\"https://www.youtube.com/embed/60z_hpEAtD8\"\n",
       "            frameborder=\"0\"\n",
       "            allowfullscreen\n",
       "        ></iframe>\n",
       "        "
      ],
      "text/plain": [
       "<IPython.lib.display.YouTubeVideo at 0x7f7e230958e0>"
      ]
     },
     "execution_count": 83,
     "metadata": {},
     "output_type": "execute_result"
    }
   ],
   "source": [
    "#hide_input\n",
    "from IPython.display import HTML, YouTubeVideo\n",
    "YouTubeVideo('60z_hpEAtD8')"
   ]
  },
  {
   "cell_type": "markdown",
   "metadata": {},
   "source": [
    "* [This very handy list of properties](http://wackerart.de/mathematik/clifford_algebra.html)\n",
    "* [These slides](https://www.ime.unicamp.br/~agacse2018/GA_Lecture1.pdf) by Joan Lasenby (Signal Processing Group, Trinity College, Cambridge)\n",
    "* [John Denker's write-up](https://www.av8n.com/physics/clifford-intro.pdf)\n",
    "\n",
    "## Other resources I have yet to read\n",
    "* [PyTorch Quaternion Neural Networks](https://github.com/TParcollet/Quaternion-Neural-Networks)\n",
    "* [\"Embed Me If You Can: A Geometric Perceptron\"](https://arxiv.org/pdf/2006.06507.pdf)\n",
    "* This book chapter: [\"Outlook for Clifford Algebra Based Feature and Deep Learning AI Architectures\"](https://link.springer.com/chapter/10.1007/978-3-319-57027-3_6)\n",
    "* [Something Twitter-y?](https://drive.google.com/file/d/15fTvrmP-Fht-u5iMMsq-4ie-7yEcgOcA/view)\n",
    "* ....your suggestions?\n"
   ]
  },
  {
   "cell_type": "markdown",
   "metadata": {},
   "source": [
    "\n",
    "## Probably best to stop reading here for now.\n",
    "Everything from here down is, so far, just me screwing around with the `clifford` Python package in a free-from manner.  I seriously doubt it will be helpful to anyone else in its present form. i.e., you probably want to stop reading here. -S.H.\n",
    "\n",
    "---\n"
   ]
  },
  {
   "cell_type": "markdown",
   "metadata": {},
   "source": [
    "## Messing with `clifford` package\n",
    "\n",
    "This notebook is ripped out of the `clifford` documentation: https://clifford.readthedocs.io/. and then extended. This notebook gives a terse introduction to using the `clifford` module, using a two-dimensional geometric algebra  as the context.\n",
    "\n",
    "\n",
    "### Setup"
   ]
  },
  {
   "cell_type": "markdown",
   "metadata": {},
   "source": [
    "First, import clifford and instantiate a two-dimensional algebra (G2),"
   ]
  },
  {
   "cell_type": "code",
   "execution_count": 3,
   "metadata": {},
   "outputs": [
    {
     "name": "stdout",
     "output_type": "stream",
     "text": [
      "\u001b[33mWARNING: You are using pip version 20.2.3; however, version 21.3 is available.\n",
      "You should consider upgrading via the '/Users/shawley/envs/fastai/bin/python3 -m pip install --upgrade pip' command.\u001b[0m\n",
      "Note: you may need to restart the kernel to use updated packages.\n"
     ]
    }
   ],
   "source": [
    "%pip install clifford -q --use-feature=2020-resolver"
   ]
  },
  {
   "cell_type": "code",
   "execution_count": 4,
   "metadata": {},
   "outputs": [],
   "source": [
    "import clifford as cf\n",
    "\n",
    "layout, blades = cf.Cl(2) # creates a 2-dimensional clifford algebra"
   ]
  },
  {
   "cell_type": "markdown",
   "metadata": {},
   "source": [
    "Inspect blades."
   ]
  },
  {
   "cell_type": "code",
   "execution_count": 5,
   "metadata": {},
   "outputs": [
    {
     "data": {
      "text/plain": [
       "{'': 1, 'e1': (1^e1), 'e2': (1^e2), 'e12': (1^e12)}"
      ]
     },
     "execution_count": 5,
     "metadata": {},
     "output_type": "execute_result"
    }
   ],
   "source": [
    "blades "
   ]
  },
  {
   "cell_type": "markdown",
   "metadata": {},
   "source": [
    "Assign blades to variables"
   ]
  },
  {
   "cell_type": "code",
   "execution_count": 6,
   "metadata": {},
   "outputs": [],
   "source": [
    "e1 = blades['e1']\n",
    "e2 = blades['e2']\n",
    "e12 = blades['e12']"
   ]
  },
  {
   "cell_type": "markdown",
   "metadata": {},
   "source": [
    "### Basics"
   ]
  },
  {
   "cell_type": "code",
   "execution_count": 7,
   "metadata": {},
   "outputs": [
    {
     "name": "stderr",
     "output_type": "stream",
     "text": [
      "OMP: Info #270: omp_set_nested routine deprecated, please use omp_set_max_active_levels instead.\n"
     ]
    },
    {
     "data": {
      "text/plain": [
       "(1^e12)"
      ]
     },
     "execution_count": 7,
     "metadata": {},
     "output_type": "execute_result"
    }
   ],
   "source": [
    "e1*e2  # geometric product"
   ]
  },
  {
   "cell_type": "code",
   "execution_count": 8,
   "metadata": {},
   "outputs": [
    {
     "data": {
      "text/plain": [
       "0"
      ]
     },
     "execution_count": 8,
     "metadata": {},
     "output_type": "execute_result"
    }
   ],
   "source": [
    "e1|e2  # inner product "
   ]
  },
  {
   "cell_type": "code",
   "execution_count": 9,
   "metadata": {},
   "outputs": [
    {
     "data": {
      "text/plain": [
       "(1^e12)"
      ]
     },
     "execution_count": 9,
     "metadata": {},
     "output_type": "execute_result"
    }
   ],
   "source": [
    "e1^e2  # outer product"
   ]
  },
  {
   "cell_type": "markdown",
   "metadata": {},
   "source": [
    "### Reflection "
   ]
  },
  {
   "cell_type": "code",
   "execution_count": 10,
   "metadata": {},
   "outputs": [
    {
     "data": {
      "text/plain": [
       "-(1.0^e1) + (1.0^e2)"
      ]
     },
     "execution_count": 10,
     "metadata": {},
     "output_type": "execute_result"
    }
   ],
   "source": [
    "a = e1+e2     # the vector\n",
    "n = e1        # the reflector\n",
    "-n*a*n.inv()  # reflect `a` in hyperplane normal to `n`"
   ]
  },
  {
   "cell_type": "markdown",
   "metadata": {},
   "source": [
    "### Rotation"
   ]
  },
  {
   "cell_type": "code",
   "execution_count": 11,
   "metadata": {},
   "outputs": [
    {
     "data": {
      "text/plain": [
       "0.70711 + (0.70711^e12)"
      ]
     },
     "execution_count": 11,
     "metadata": {},
     "output_type": "execute_result"
    }
   ],
   "source": [
    "from math import e, pi\n",
    "\n",
    "R = e**(pi/4*e12)  # enacts rotation by pi/2 \n",
    "R"
   ]
  },
  {
   "cell_type": "code",
   "execution_count": 12,
   "metadata": {},
   "outputs": [
    {
     "data": {
      "text/plain": [
       "-(1.0^e2)"
      ]
     },
     "execution_count": 12,
     "metadata": {},
     "output_type": "execute_result"
    }
   ],
   "source": [
    "R*e1*~R    # rotate e1 by pi/2 in the e12-plane"
   ]
  },
  {
   "cell_type": "code",
   "execution_count": 13,
   "metadata": {},
   "outputs": [],
   "source": [
    "import math"
   ]
  },
  {
   "cell_type": "code",
   "execution_count": 14,
   "metadata": {},
   "outputs": [],
   "source": [
    "a_ = 2*e1 + e2\n",
    "b_ = 0.7*(e1 + 2*e2)"
   ]
  },
  {
   "cell_type": "markdown",
   "metadata": {},
   "source": [
    "Define non-orthogonal unit vectors a and b:"
   ]
  },
  {
   "cell_type": "code",
   "execution_count": 15,
   "metadata": {},
   "outputs": [],
   "source": [
    "def unit(v):\n",
    "    return v / math.sqrt(v*v)\n",
    "\n",
    "a = unit(a_)\n",
    "b = unit(b_)"
   ]
  },
  {
   "cell_type": "code",
   "execution_count": 16,
   "metadata": {},
   "outputs": [
    {
     "data": {
      "text/plain": [
       "((0.89443^e1) + (0.44721^e2), (0.44721^e1) + (0.89443^e2))"
      ]
     },
     "execution_count": 16,
     "metadata": {},
     "output_type": "execute_result"
    }
   ],
   "source": [
    "a, b"
   ]
  },
  {
   "cell_type": "code",
   "execution_count": 17,
   "metadata": {},
   "outputs": [
    {
     "data": {
      "text/plain": [
       "-(0.17889^e1) + (0.98387^e2)"
      ]
     },
     "execution_count": 17,
     "metadata": {},
     "output_type": "execute_result"
    }
   ],
   "source": [
    "b*a*b"
   ]
  },
  {
   "cell_type": "code",
   "execution_count": 18,
   "metadata": {},
   "outputs": [
    {
     "data": {
      "text/plain": [
       "(0.98387^e1) - (0.17889^e2)"
      ]
     },
     "execution_count": 18,
     "metadata": {},
     "output_type": "execute_result"
    }
   ],
   "source": [
    "a*b*a"
   ]
  },
  {
   "cell_type": "markdown",
   "metadata": {},
   "source": [
    "... so a*b*a is b*a*b rotated by 90 degrees.\n",
    "\n",
    "Here are two different versions of b:"
   ]
  },
  {
   "cell_type": "code",
   "execution_count": 19,
   "metadata": {},
   "outputs": [
    {
     "data": {
      "text/plain": [
       "(0.44721^e1) + (0.89443^e2)"
      ]
     },
     "execution_count": 19,
     "metadata": {},
     "output_type": "execute_result"
    }
   ],
   "source": [
    "b*a*a"
   ]
  },
  {
   "cell_type": "code",
   "execution_count": 20,
   "metadata": {},
   "outputs": [
    {
     "data": {
      "text/plain": [
       "(0.44721^e1) + (0.89443^e2)"
      ]
     },
     "execution_count": 20,
     "metadata": {},
     "output_type": "execute_result"
    }
   ],
   "source": [
    "a*a*b"
   ]
  },
  {
   "cell_type": "markdown",
   "metadata": {},
   "source": [
    "....Note that in 2D, \"trivectors\" (e.g., $baa$ or $abb$ or $aab$) *don't exist as trivectors*.  A vector times a bivector is a vector (in 2D). \n",
    "\n",
    "\n",
    "Checking associativity:"
   ]
  },
  {
   "cell_type": "code",
   "execution_count": 21,
   "metadata": {},
   "outputs": [
    {
     "data": {
      "text/plain": [
       "-(0.17889^e1) + (0.98387^e2)"
      ]
     },
     "execution_count": 21,
     "metadata": {},
     "output_type": "execute_result"
    }
   ],
   "source": [
    "(b*a)*b"
   ]
  },
  {
   "cell_type": "code",
   "execution_count": 22,
   "metadata": {},
   "outputs": [
    {
     "data": {
      "text/plain": [
       "-(0.17889^e1) + (0.98387^e2)"
      ]
     },
     "execution_count": 22,
     "metadata": {},
     "output_type": "execute_result"
    }
   ],
   "source": [
    "b*(a*b)"
   ]
  },
  {
   "cell_type": "markdown",
   "metadata": {},
   "source": [
    "And if we reverse the order we pick up a term of 2a^b:"
   ]
  },
  {
   "cell_type": "code",
   "execution_count": 23,
   "metadata": {},
   "outputs": [
    {
     "data": {
      "text/plain": [
       "-(0.17889^e1) + (0.98387^e2)"
      ]
     },
     "execution_count": 23,
     "metadata": {},
     "output_type": "execute_result"
    }
   ],
   "source": [
    "((a*b)-2*(a^b))*b"
   ]
  },
  {
   "cell_type": "markdown",
   "metadata": {},
   "source": [
    "Are wedge and geometric product associative?"
   ]
  },
  {
   "cell_type": "code",
   "execution_count": 24,
   "metadata": {},
   "outputs": [
    {
     "data": {
      "text/plain": [
       "(0.53666^e1) - (0.26833^e2)"
      ]
     },
     "execution_count": 24,
     "metadata": {},
     "output_type": "execute_result"
    }
   ],
   "source": [
    "(a^b)*b"
   ]
  },
  {
   "cell_type": "code",
   "execution_count": 25,
   "metadata": {},
   "outputs": [
    {
     "data": {
      "text/plain": [
       "(0.89443^e1) + (0.44721^e2)"
      ]
     },
     "execution_count": 25,
     "metadata": {},
     "output_type": "execute_result"
    }
   ],
   "source": [
    "a^(b*b)"
   ]
  },
  {
   "cell_type": "markdown",
   "metadata": {},
   "source": [
    "....seems that they are not.  What then is the proper order of operations?  Left to right or does vector product take precedence?"
   ]
  },
  {
   "cell_type": "code",
   "execution_count": 26,
   "metadata": {},
   "outputs": [
    {
     "data": {
      "text/plain": [
       "0.8 + (0.6^e12)"
      ]
     },
     "execution_count": 26,
     "metadata": {},
     "output_type": "execute_result"
    }
   ],
   "source": [
    "a*b"
   ]
  },
  {
   "cell_type": "code",
   "execution_count": 27,
   "metadata": {},
   "outputs": [
    {
     "data": {
      "text/plain": [
       "0.8 - (0.6^e12)"
      ]
     },
     "execution_count": 27,
     "metadata": {},
     "output_type": "execute_result"
    }
   ],
   "source": [
    "b*a"
   ]
  },
  {
   "cell_type": "code",
   "execution_count": 28,
   "metadata": {},
   "outputs": [
    {
     "data": {
      "text/plain": [
       "0.8 - (0.6^e12)"
      ]
     },
     "execution_count": 28,
     "metadata": {},
     "output_type": "execute_result"
    }
   ],
   "source": [
    "(a|b) - (a^b)"
   ]
  },
  {
   "cell_type": "code",
   "execution_count": 29,
   "metadata": {},
   "outputs": [
    {
     "data": {
      "text/plain": [
       "0.8 - (0.6^e12)"
      ]
     },
     "execution_count": 29,
     "metadata": {},
     "output_type": "execute_result"
    }
   ],
   "source": [
    "(a*b) - 2*(a^b)"
   ]
  },
  {
   "cell_type": "code",
   "execution_count": 30,
   "metadata": {},
   "outputs": [
    {
     "data": {
      "text/plain": [
       "-(0.17889^e1) + (0.98387^e2)"
      ]
     },
     "execution_count": 30,
     "metadata": {},
     "output_type": "execute_result"
    }
   ],
   "source": [
    "c = (b*a)*b; c  # c = bab"
   ]
  },
  {
   "cell_type": "code",
   "execution_count": 31,
   "metadata": {},
   "outputs": [
    {
     "data": {
      "text/plain": [
       "0"
      ]
     },
     "execution_count": 31,
     "metadata": {},
     "output_type": "execute_result"
    }
   ],
   "source": [
    "c - b*a*b"
   ]
  },
  {
   "cell_type": "code",
   "execution_count": 32,
   "metadata": {
    "scrolled": false
   },
   "outputs": [
    {
     "data": {
      "text/plain": [
       "-(0.89443^e1) - (0.44721^e2)"
      ]
     },
     "execution_count": 32,
     "metadata": {},
     "output_type": "execute_result"
    }
   ],
   "source": [
    "d = (-a*b)*b; d  # d = -abb = -a(b^2)  != c = bab"
   ]
  },
  {
   "cell_type": "code",
   "execution_count": 33,
   "metadata": {},
   "outputs": [
    {
     "data": {
      "text/plain": [
       "0"
      ]
     },
     "execution_count": 33,
     "metadata": {},
     "output_type": "execute_result"
    }
   ],
   "source": [
    "d - (-a)"
   ]
  },
  {
   "cell_type": "code",
   "execution_count": 34,
   "metadata": {
    "scrolled": true
   },
   "outputs": [
    {
     "data": {
      "text/plain": [
       "(0.98387^e1) - (0.17889^e2)"
      ]
     },
     "execution_count": 34,
     "metadata": {},
     "output_type": "execute_result"
    }
   ],
   "source": [
    "e = a*b*a; e  #  e = aba "
   ]
  },
  {
   "cell_type": "code",
   "execution_count": 35,
   "metadata": {},
   "outputs": [
    {
     "name": "stdout",
     "output_type": "stream",
     "text": [
      "Note: you may need to restart the kernel to use updated packages.\n"
     ]
    }
   ],
   "source": [
    "%pip install matplotlib -Uqq"
   ]
  },
  {
   "cell_type": "code",
   "execution_count": 39,
   "metadata": {},
   "outputs": [
    {
     "data": {
      "image/png": "[encoded data removed]",
      "text/plain": [
       "<Figure size 432x288 with 1 Axes>"
      ]
     },
     "metadata": {
      "needs_background": "light"
     },
     "output_type": "display_data"
    }
   ],
   "source": [
    "# I need to see this stuff.  Let's define a plotting routine in 2d\n",
    "import matplotlib.pyplot as plt\n",
    "import string\n",
    "import numpy as np \n",
    "\n",
    "def doplot(v_list:list, labels=list(string.ascii_lowercase), loc='lower right'):\n",
    "    t = np.linspace(0,2*np.pi,num=100)\n",
    "    circle_x, circle_y = np.cos(t), np.sin(t)  # show the unit circle for reference. \n",
    "    plt.plot(circle_x, circle_y)\n",
    "\n",
    "    for i,v in enumerate(v_list):\n",
    "        x, y = e1|v, e2|v\n",
    "        plt.plot((0,x),(0,y),'o-',label=labels[i])\n",
    "        #plt.axis([-1, 1, -1, 1])\n",
    "        plt.gca().set_aspect('equal')\n",
    "        plt.legend(loc=loc)\n",
    "    \n",
    "\n",
    "doplot([a,b,c,d,e])"
   ]
  },
  {
   "cell_type": "markdown",
   "metadata": {},
   "source": [
    "Note that $ba$ performs a rotation by the angle amount from $a$ to $b$, then applied to whatever comes after. so $baf$ takes $f$ and rotates by the angle you subtend when you go from $a$ to $b$"
   ]
  },
  {
   "cell_type": "code",
   "execution_count": 40,
   "metadata": {},
   "outputs": [
    {
     "data": {
      "image/png": "[encoded data removed]",
      "text/plain": [
       "<Figure size 432x288 with 1 Axes>"
      ]
     },
     "metadata": {
      "needs_background": "light"
     },
     "output_type": "display_data"
    }
   ],
   "source": [
    "f = unit(-.7*e1 + e2)  # just some other vector\n",
    "doplot([a,b,f,b*a*f], labels=['a','b','f','b*a*f'])"
   ]
  },
  {
   "cell_type": "markdown",
   "metadata": {},
   "source": [
    "And (at least for unit vectors) this is the same as hitting the $f$ on the other side, and reversing the order of $a$ and $b$:"
   ]
  },
  {
   "cell_type": "markdown",
   "metadata": {},
   "source": [
    "Permuting all three indices gives you the same result:"
   ]
  },
  {
   "cell_type": "code",
   "execution_count": 42,
   "metadata": {},
   "outputs": [
    {
     "data": {
      "text/plain": [
       "0"
      ]
     },
     "execution_count": 42,
     "metadata": {},
     "output_type": "execute_result"
    }
   ],
   "source": [
    "f*a*b - b*a*f"
   ]
  },
  {
   "cell_type": "markdown",
   "metadata": {},
   "source": [
    "similarly:"
   ]
  },
  {
   "cell_type": "code",
   "execution_count": 43,
   "metadata": {},
   "outputs": [
    {
     "data": {
      "text/plain": [
       "0"
      ]
     },
     "execution_count": 43,
     "metadata": {},
     "output_type": "execute_result"
    }
   ],
   "source": [
    "d*c*a - a*c*d"
   ]
  },
  {
   "cell_type": "markdown",
   "metadata": {},
   "source": [
    "Switching the order of the last one compared to a wedge (without permuting the wedge) gives you a minus sign:"
   ]
  },
  {
   "cell_type": "code",
   "execution_count": 44,
   "metadata": {},
   "outputs": [
    {
     "data": {
      "text/plain": [
       "(0.49154^e1) + (0.34408^e2)"
      ]
     },
     "execution_count": 44,
     "metadata": {},
     "output_type": "execute_result"
    }
   ],
   "source": [
    "(a^b)*f"
   ]
  },
  {
   "cell_type": "code",
   "execution_count": 45,
   "metadata": {},
   "outputs": [
    {
     "data": {
      "text/plain": [
       "-(0.49154^e1) - (0.34408^e2)"
      ]
     },
     "execution_count": 45,
     "metadata": {},
     "output_type": "execute_result"
    }
   ],
   "source": [
    "f*(a^b)"
   ]
  },
  {
   "cell_type": "code",
   "execution_count": 46,
   "metadata": {},
   "outputs": [
    {
     "data": {
      "text/plain": [
       "(0.6^e2)"
      ]
     },
     "execution_count": 46,
     "metadata": {},
     "output_type": "execute_result"
    }
   ],
   "source": [
    "e1*(a^b)"
   ]
  },
  {
   "cell_type": "code",
   "execution_count": 47,
   "metadata": {},
   "outputs": [
    {
     "data": {
      "text/plain": [
       "-(0.6^e2)"
      ]
     },
     "execution_count": 47,
     "metadata": {},
     "output_type": "execute_result"
    }
   ],
   "source": [
    "(a^b)*e1"
   ]
  },
  {
   "cell_type": "code",
   "execution_count": 48,
   "metadata": {},
   "outputs": [
    {
     "data": {
      "text/plain": [
       "(1^e12)"
      ]
     },
     "execution_count": 48,
     "metadata": {},
     "output_type": "execute_result"
    }
   ],
   "source": [
    "e1^e2"
   ]
  },
  {
   "cell_type": "code",
   "execution_count": 49,
   "metadata": {},
   "outputs": [
    {
     "data": {
      "text/plain": [
       "(0.6^e12)"
      ]
     },
     "execution_count": 49,
     "metadata": {},
     "output_type": "execute_result"
    }
   ],
   "source": [
    "a^b"
   ]
  },
  {
   "cell_type": "code",
   "execution_count": 50,
   "metadata": {},
   "outputs": [
    {
     "data": {
      "text/plain": [
       "0.8"
      ]
     },
     "execution_count": 50,
     "metadata": {},
     "output_type": "execute_result"
    }
   ],
   "source": [
    "a|b"
   ]
  },
  {
   "cell_type": "code",
   "execution_count": 51,
   "metadata": {},
   "outputs": [
    {
     "data": {
      "text/plain": [
       "((0.89443^e1) + (0.44721^e2), (0.44721^e1) + (0.89443^e2))"
      ]
     },
     "execution_count": 51,
     "metadata": {},
     "output_type": "execute_result"
    }
   ],
   "source": [
    "a,b"
   ]
  },
  {
   "cell_type": "code",
   "execution_count": 52,
   "metadata": {},
   "outputs": [
    {
     "data": {
      "text/plain": [
       "0"
      ]
     },
     "execution_count": 52,
     "metadata": {},
     "output_type": "execute_result"
    }
   ],
   "source": [
    "e1^e1"
   ]
  },
  {
   "cell_type": "code",
   "execution_count": 53,
   "metadata": {},
   "outputs": [
    {
     "data": {
      "text/plain": [
       "0.6"
      ]
     },
     "execution_count": 53,
     "metadata": {},
     "output_type": "execute_result"
    }
   ],
   "source": [
    "(a|e1)*(b|e2) - (a|e2)*(b|e1)"
   ]
  },
  {
   "cell_type": "markdown",
   "metadata": {},
   "source": [
    "### Proving why f\\*e12 = - e12\\*f:"
   ]
  },
  {
   "cell_type": "code",
   "execution_count": 54,
   "metadata": {},
   "outputs": [
    {
     "data": {
      "text/plain": [
       "-(0.81923^e1) - (0.57346^e2)"
      ]
     },
     "execution_count": 54,
     "metadata": {},
     "output_type": "execute_result"
    }
   ],
   "source": [
    "f*e12"
   ]
  },
  {
   "cell_type": "code",
   "execution_count": 55,
   "metadata": {
    "scrolled": true
   },
   "outputs": [
    {
     "data": {
      "text/plain": [
       "(0.81923^e1) + (0.57346^e2)"
      ]
     },
     "execution_count": 55,
     "metadata": {},
     "output_type": "execute_result"
    }
   ],
   "source": [
    "e12*f"
   ]
  },
  {
   "cell_type": "code",
   "execution_count": 56,
   "metadata": {},
   "outputs": [
    {
     "data": {
      "text/plain": [
       "0"
      ]
     },
     "execution_count": 56,
     "metadata": {},
     "output_type": "execute_result"
    }
   ],
   "source": [
    "f*e12 - (- e12*f)"
   ]
  },
  {
   "cell_type": "code",
   "execution_count": 57,
   "metadata": {},
   "outputs": [
    {
     "data": {
      "text/plain": [
       "-(0.57346^e1) + (0.81923^e2)"
      ]
     },
     "execution_count": 57,
     "metadata": {},
     "output_type": "execute_result"
    }
   ],
   "source": [
    "f"
   ]
  },
  {
   "cell_type": "code",
   "execution_count": 58,
   "metadata": {},
   "outputs": [
    {
     "data": {
      "text/plain": [
       "(1^e2)"
      ]
     },
     "execution_count": 58,
     "metadata": {},
     "output_type": "execute_result"
    }
   ],
   "source": [
    "e1*e12"
   ]
  },
  {
   "cell_type": "code",
   "execution_count": 59,
   "metadata": {},
   "outputs": [
    {
     "data": {
      "text/plain": [
       "-(1^e2)"
      ]
     },
     "execution_count": 59,
     "metadata": {},
     "output_type": "execute_result"
    }
   ],
   "source": [
    "e12*e1"
   ]
  },
  {
   "cell_type": "code",
   "execution_count": 60,
   "metadata": {},
   "outputs": [
    {
     "data": {
      "text/plain": [
       "-0.57346 - (0.81923^e12)"
      ]
     },
     "execution_count": 60,
     "metadata": {},
     "output_type": "execute_result"
    }
   ],
   "source": [
    "f*e1"
   ]
  },
  {
   "cell_type": "markdown",
   "metadata": {},
   "source": [
    "= f1 + (f2 e2^e1) = f1 - f2 e1^e2  = $f_1 - f_2 e_{12}$  $~~~~~~~~~~~~~~~~~~~~~~~~~~~~~~~~~$[1]"
   ]
  },
  {
   "cell_type": "code",
   "execution_count": 61,
   "metadata": {},
   "outputs": [
    {
     "data": {
      "text/plain": [
       "0.81923 + (0.57346^e12)"
      ]
     },
     "execution_count": 61,
     "metadata": {},
     "output_type": "execute_result"
    }
   ],
   "source": [
    "e2*f"
   ]
  },
  {
   "cell_type": "markdown",
   "metadata": {},
   "source": [
    "= f2 + e2^f1e1 = f2 -f1 e1^e2 =  $f_2 - f_1 e_{12}$  $~~~~~~~~~~~~~~~~~~~~~~~~~~~~~~~~~~~~~$[2]"
   ]
  },
  {
   "cell_type": "code",
   "execution_count": 62,
   "metadata": {},
   "outputs": [
    {
     "data": {
      "text/plain": [
       "(0.81923^e1) + (0.57346^e2)"
      ]
     },
     "execution_count": 62,
     "metadata": {},
     "output_type": "execute_result"
    }
   ],
   "source": [
    "e1*(e2*f)"
   ]
  },
  {
   "cell_type": "markdown",
   "metadata": {},
   "source": [
    "= e1([2]) = e1 f2 e1(-f1e12) = $f_2 e_1 - f_1 e_2$ $~~~~~~~~~~~~~~~~~~~~~~~~~~~~~~~~~~~~~$[3]"
   ]
  },
  {
   "cell_type": "code",
   "execution_count": 63,
   "metadata": {},
   "outputs": [
    {
     "data": {
      "text/plain": [
       "-(0.81923^e1) - (0.57346^e2)"
      ]
     },
     "execution_count": 63,
     "metadata": {},
     "output_type": "execute_result"
    }
   ],
   "source": [
    "(f*e1)*e2"
   ]
  },
  {
   "cell_type": "markdown",
   "metadata": {},
   "source": [
    "= [1] e2 = (  f1 - f2 e12 ) fe2   = $-f_2 e_1 + f_1 e_2 $ $~~~~~~~~~~~~~~~~~~~~~~~~~~~~~~~~~~~$[4] = - [3]\n",
    "\n",
    "$\\therefore$ f e1 e2 = - e1 e2 f "
   ]
  },
  {
   "cell_type": "markdown",
   "metadata": {},
   "source": [
    "Let's try a different set of random (2-)vectors:"
   ]
  },
  {
   "cell_type": "code",
   "execution_count": 67,
   "metadata": {},
   "outputs": [],
   "source": [
    "import numpy as np\n",
    "def rndvec():\n",
    "    return (2*np.random.rand()-1)*e1 + (2*np.random.rand()-1)*e2 "
   ]
  },
  {
   "cell_type": "code",
   "execution_count": 70,
   "metadata": {},
   "outputs": [
    {
     "data": {
      "text/plain": [
       "((0.61705^e1) - (0.28619^e2),\n",
       " (0.45191^e1) - (0.75477^e2),\n",
       " (0.18531^e1) - (0.50388^e2))"
      ]
     },
     "execution_count": 70,
     "metadata": {},
     "output_type": "execute_result"
    }
   ],
   "source": [
    "# we could make these unit vectors but that obscures some complexity I want to see. \n",
    "u, v, w = [rndvec() for x in range(3)]; u, v, w"
   ]
  },
  {
   "cell_type": "code",
   "execution_count": 72,
   "metadata": {},
   "outputs": [
    {
     "data": {
      "image/png": "[encoded data removed]",
      "text/plain": [
       "<Figure size 432x288 with 1 Axes>"
      ]
     },
     "metadata": {
      "needs_background": "light"
     },
     "output_type": "display_data"
    }
   ],
   "source": [
    "doplot([u,v,w,u*v*w,v*u*w,w*u*v,u*(v^w),(u*v)^w], labels=['u','v','w','u*v*w','v*u*w','w*u*v','u*(v^w)','(u*v)^w'],loc='upper left')"
   ]
  },
  {
   "cell_type": "markdown",
   "metadata": {},
   "source": [
    "In the above, vuw (brown) and wuv (pink) are on top of each other, i.e. swapping the first and third vectors produces no change:"
   ]
  },
  {
   "cell_type": "code",
   "execution_count": 73,
   "metadata": {},
   "outputs": [
    {
     "data": {
      "text/plain": [
       "0"
      ]
     },
     "execution_count": 73,
     "metadata": {},
     "output_type": "execute_result"
    }
   ],
   "source": [
    "v*u*w - w*u*v"
   ]
  },
  {
   "cell_type": "markdown",
   "metadata": {},
   "source": [
    "## Kinds of products, AKA WTH is a Kronecker product?\n",
    "[The paper](https://arxiv.org/abs/2110.04176) uses \"Kronecker Product\".  Which...I didn't know what that is. I see on the internet that it's likened to the \"tensor product\". Which is like the \"outer product\". But is *different from* \"exterior product\" (even though \"outer\" and \"exterior\" should mean the same thing, they don't) because math history.  But the latter is the same as the wedge product. ...Yes?\n",
    "\n",
    "...And all these are of course different from the dot product which is the same as \"matrix multiplication\" which is the same as the \"@\" symbol. \n",
    "\n",
    "Define a couple matrices"
   ]
  },
  {
   "cell_type": "code",
   "execution_count": 80,
   "metadata": {},
   "outputs": [
    {
     "data": {
      "text/plain": [
       "array([[1, 2, 3],\n",
       "       [4, 5, 6]])"
      ]
     },
     "execution_count": 80,
     "metadata": {},
     "output_type": "execute_result"
    }
   ],
   "source": [
    "import numpy as np\n",
    "\n",
    "A = np.array([[1,2,3],[4,5,6]]); A"
   ]
  },
  {
   "cell_type": "code",
   "execution_count": 81,
   "metadata": {
    "scrolled": true
   },
   "outputs": [
    {
     "data": {
      "text/plain": [
       "array([[-0.1,  0.2,  0.3],\n",
       "       [ 0.4, -0.5,  0.6]])"
      ]
     },
     "execution_count": 81,
     "metadata": {},
     "output_type": "execute_result"
    }
   ],
   "source": [
    "B = np.array([[-0.1,.2,.3],[.4,-.5,.6]]); B"
   ]
  },
  {
   "cell_type": "markdown",
   "metadata": {},
   "source": [
    "Equivalince of \"@\", `dot` product and `matmul`:"
   ]
  },
  {
   "cell_type": "code",
   "execution_count": 82,
   "metadata": {},
   "outputs": [
    {
     "data": {
      "text/plain": [
       "array([[ 1.5, -1.8,  2.7],\n",
       "       [ 1.8, -2.1,  3.6],\n",
       "       [ 2.1, -2.4,  4.5]])"
      ]
     },
     "execution_count": 82,
     "metadata": {},
     "output_type": "execute_result"
    }
   ],
   "source": [
    "A.T @ B"
   ]
  },
  {
   "cell_type": "code",
   "execution_count": 83,
   "metadata": {},
   "outputs": [
    {
     "data": {
      "text/plain": [
       "array([[ 1.5, -1.8,  2.7],\n",
       "       [ 1.8, -2.1,  3.6],\n",
       "       [ 2.1, -2.4,  4.5]])"
      ]
     },
     "execution_count": 83,
     "metadata": {},
     "output_type": "execute_result"
    }
   ],
   "source": [
    "np.dot(A.T,B)"
   ]
  },
  {
   "cell_type": "code",
   "execution_count": 84,
   "metadata": {},
   "outputs": [
    {
     "data": {
      "text/plain": [
       "array([[ 1.5, -1.8,  2.7],\n",
       "       [ 1.8, -2.1,  3.6],\n",
       "       [ 2.1, -2.4,  4.5]])"
      ]
     },
     "execution_count": 84,
     "metadata": {},
     "output_type": "execute_result"
    }
   ],
   "source": [
    "np.matmul(A.T,B)"
   ]
  },
  {
   "cell_type": "code",
   "execution_count": 85,
   "metadata": {},
   "outputs": [
    {
     "data": {
      "text/plain": [
       "array([[ 1.5,  1.8,  2.1],\n",
       "       [-1.8, -2.1, -2.4],\n",
       "       [ 2.7,  3.6,  4.5]])"
      ]
     },
     "execution_count": 85,
     "metadata": {},
     "output_type": "execute_result"
    }
   ],
   "source": [
    "B.T @ A"
   ]
  },
  {
   "cell_type": "markdown",
   "metadata": {},
   "source": [
    "Outer products:"
   ]
  },
  {
   "cell_type": "code",
   "execution_count": 98,
   "metadata": {},
   "outputs": [
    {
     "name": "stdout",
     "output_type": "stream",
     "text": [
      "[[-0.1  0.2  0.3  0.4 -0.5  0.6]\n",
      " [-0.2  0.4  0.6  0.8 -1.   1.2]\n",
      " [-0.3  0.6  0.9  1.2 -1.5  1.8]\n",
      " [-0.4  0.8  1.2  1.6 -2.   2.4]\n",
      " [-0.5  1.   1.5  2.  -2.5  3. ]\n",
      " [-0.6  1.2  1.8  2.4 -3.   3.6]]\n"
     ]
    },
    {
     "data": {
      "text/plain": [
       "(6, 6)"
      ]
     },
     "execution_count": 98,
     "metadata": {},
     "output_type": "execute_result"
    }
   ],
   "source": [
    "print(np.outer(A,B))\n",
    "np.outer(A,B).shape"
   ]
  },
  {
   "cell_type": "code",
   "execution_count": 99,
   "metadata": {
    "scrolled": true
   },
   "outputs": [
    {
     "name": "stdout",
     "output_type": "stream",
     "text": [
      "[[-0.1 -0.2 -0.3 -0.4 -0.5 -0.6]\n",
      " [ 0.2  0.4  0.6  0.8  1.   1.2]\n",
      " [ 0.3  0.6  0.9  1.2  1.5  1.8]\n",
      " [ 0.4  0.8  1.2  1.6  2.   2.4]\n",
      " [-0.5 -1.  -1.5 -2.  -2.5 -3. ]\n",
      " [ 0.6  1.2  1.8  2.4  3.   3.6]]\n"
     ]
    },
    {
     "data": {
      "text/plain": [
       "(6, 6)"
      ]
     },
     "execution_count": 99,
     "metadata": {},
     "output_type": "execute_result"
    }
   ],
   "source": [
    "print(np.outer(B,A))\n",
    "np.outer(B,A).shape"
   ]
  },
  {
   "cell_type": "code",
   "execution_count": 100,
   "metadata": {},
   "outputs": [
    {
     "data": {
      "text/plain": [
       "0.0"
      ]
     },
     "execution_count": 100,
     "metadata": {},
     "output_type": "execute_result"
    }
   ],
   "source": [
    "# observe that outer(B,A) = outer(A,B).T:\n",
    "np.abs(np.outer(B,A) - np.outer(A,B).T).flatten().sum()"
   ]
  },
  {
   "cell_type": "markdown",
   "metadata": {},
   "source": [
    "Kronecker product is [np.kron](https://numpy.org/doc/stable/reference/generated/numpy.kron.html):"
   ]
  },
  {
   "cell_type": "code",
   "execution_count": 101,
   "metadata": {
    "scrolled": true
   },
   "outputs": [
    {
     "name": "stdout",
     "output_type": "stream",
     "text": [
      "[[-0.1  0.2  0.3 -0.2  0.4  0.6 -0.3  0.6  0.9]\n",
      " [ 0.4 -0.5  0.6  0.8 -1.   1.2  1.2 -1.5  1.8]\n",
      " [-0.4  0.8  1.2 -0.5  1.   1.5 -0.6  1.2  1.8]\n",
      " [ 1.6 -2.   2.4  2.  -2.5  3.   2.4 -3.   3.6]]\n"
     ]
    },
    {
     "data": {
      "text/plain": [
       "(4, 9)"
      ]
     },
     "execution_count": 101,
     "metadata": {},
     "output_type": "execute_result"
    }
   ],
   "source": [
    "print(np.kron(A,B))\n",
    "np.shape(np.kron(A,B))"
   ]
  },
  {
   "cell_type": "markdown",
   "metadata": {},
   "source": [
    "...ok that is NOT the same as the `.outer` product! Same number of elements though. But the number `-0.3` appears in the Kronecker product yet nowehere in the outer product. \n",
    "\n",
    "Literature says Kronecker product AB is a \"block\" matrix where each component of A gets multiplied by B. This makes sense. It's a a 2x3 matrix times another 2x3 matrix.  I'd view that as 2x3x2x3 but numpy makes it a (2\\*2)x(3\\*3).  ...odd. ??"
   ]
  },
  {
   "cell_type": "code",
   "execution_count": 109,
   "metadata": {
    "scrolled": false
   },
   "outputs": [
    {
     "name": "stdout",
     "output_type": "stream",
     "text": [
      "[[-0.1 -0.2 -0.3  0.2  0.4  0.6  0.3  0.6  0.9]\n",
      " [-0.4 -0.5 -0.6  0.8  1.   1.2  1.2  1.5  1.8]\n",
      " [ 0.4  0.8  1.2 -0.5 -1.  -1.5  0.6  1.2  1.8]\n",
      " [ 1.6  2.   2.4 -2.  -2.5 -3.   2.4  3.   3.6]]\n"
     ]
    },
    {
     "data": {
      "text/plain": [
       "(4, 9)"
      ]
     },
     "execution_count": 109,
     "metadata": {},
     "output_type": "execute_result"
    }
   ],
   "source": [
    "# does anything (anti-)commute in the Kronecker product? Let's try BA \n",
    "print(np.kron(B,A))\n",
    "np.shape(np.kron(B,A))"
   ]
  },
  {
   "cell_type": "markdown",
   "metadata": {},
   "source": [
    "...ok looks like some things change sign and some things don't, but the values don't seem to move around. Hmmm.."
   ]
  },
  {
   "cell_type": "code",
   "execution_count": 117,
   "metadata": {},
   "outputs": [
    {
     "name": "stdout",
     "output_type": "stream",
     "text": [
      "[[ 0.   0.4  0.6 -0.4  0.  -0.  -0.6  0.   0. ]\n",
      " [ 0.8  0.   1.2  0.  -2.  -0.   0.  -3.   0. ]\n",
      " [-0.8  0.  -0.   0.   2.   3.  -1.2  0.   0. ]\n",
      " [ 0.  -4.  -0.   4.   0.   6.   0.  -6.   0. ]]\n"
     ]
    }
   ],
   "source": [
    "np.set_printoptions(precision=2, suppress=True)\n",
    "\n",
    "print(np.kron(A,B) - np.kron(B,A),)"
   ]
  },
  {
   "cell_type": "markdown",
   "metadata": {},
   "source": [
    "...yea I don't understand that.\n",
    "\n",
    "\n",
    "\n",
    "Maybe instead of matrices we should step down to vectors. Define a pair of random vectors. (We'll use 3 dimensions instead of 2 dims of the Clifford algebra.)"
   ]
  },
  {
   "cell_type": "code",
   "execution_count": 118,
   "metadata": {},
   "outputs": [
    {
     "data": {
      "text/plain": [
       "array([0.68, 0.  , 0.43])"
      ]
     },
     "execution_count": 118,
     "metadata": {},
     "output_type": "execute_result"
    }
   ],
   "source": [
    "x = np.random.rand(3); x"
   ]
  },
  {
   "cell_type": "code",
   "execution_count": 119,
   "metadata": {},
   "outputs": [
    {
     "data": {
      "text/plain": [
       "array([0.93, 0.39, 0.86])"
      ]
     },
     "execution_count": 119,
     "metadata": {},
     "output_type": "execute_result"
    }
   ],
   "source": [
    "y = np.random.rand(3); y"
   ]
  },
  {
   "cell_type": "code",
   "execution_count": 120,
   "metadata": {},
   "outputs": [
    {
     "data": {
      "text/plain": [
       "array([[0.63, 0.27, 0.59],\n",
       "       [0.  , 0.  , 0.  ],\n",
       "       [0.4 , 0.17, 0.37]])"
      ]
     },
     "execution_count": 120,
     "metadata": {},
     "output_type": "execute_result"
    }
   ],
   "source": [
    "np.outer(x,y)"
   ]
  },
  {
   "cell_type": "code",
   "execution_count": 121,
   "metadata": {},
   "outputs": [
    {
     "data": {
      "text/plain": [
       "array([[0.63, 0.  , 0.4 ],\n",
       "       [0.27, 0.  , 0.17],\n",
       "       [0.59, 0.  , 0.37]])"
      ]
     },
     "execution_count": 121,
     "metadata": {},
     "output_type": "execute_result"
    }
   ],
   "source": [
    "np.outer(y,x)"
   ]
  },
  {
   "cell_type": "code",
   "execution_count": 122,
   "metadata": {},
   "outputs": [
    {
     "data": {
      "text/plain": [
       "array([[ 0.  ,  0.13,  0.09],\n",
       "       [-0.13,  0.  , -0.08],\n",
       "       [-0.09,  0.08,  0.  ]])"
      ]
     },
     "execution_count": 122,
     "metadata": {},
     "output_type": "execute_result"
    }
   ],
   "source": [
    "# lets make an antisymmetric matrix...\n",
    "(np.outer(x,y) - np.outer(y,x))/2"
   ]
  },
  {
   "cell_type": "code",
   "execution_count": 123,
   "metadata": {},
   "outputs": [
    {
     "data": {
      "text/plain": [
       "array([0.63, 0.27, 0.59, 0.  , 0.  , 0.  , 0.4 , 0.17, 0.37])"
      ]
     },
     "execution_count": 123,
     "metadata": {},
     "output_type": "execute_result"
    }
   ],
   "source": [
    "np.kron(x,y)"
   ]
  },
  {
   "cell_type": "markdown",
   "metadata": {},
   "source": [
    "...that's just weird, man. ;-) "
   ]
  },
  {
   "cell_type": "code",
   "execution_count": 124,
   "metadata": {
    "scrolled": true
   },
   "outputs": [
    {
     "data": {
      "text/plain": [
       "array([0.63, 0.  , 0.4 , 0.27, 0.  , 0.17, 0.59, 0.  , 0.37])"
      ]
     },
     "execution_count": 124,
     "metadata": {},
     "output_type": "execute_result"
    }
   ],
   "source": [
    "np.kron(y,x)"
   ]
  },
  {
   "cell_type": "markdown",
   "metadata": {},
   "source": [
    "That's kind of the same as kron(x,y) but rearranged."
   ]
  },
  {
   "cell_type": "markdown",
   "metadata": {},
   "source": [
    "...ok enough with the Kronecker product.  I think I know how to *do* it but not sure what it means / why we can't use...any of the other many \"product\" types available. \n",
    "\n",
    "\n",
    "Ok, back to wedges and clifs and whatnot.  A little more vector play:"
   ]
  },
  {
   "cell_type": "code",
   "execution_count": 77,
   "metadata": {},
   "outputs": [
    {
     "data": {
      "text/plain": [
       "0"
      ]
     },
     "execution_count": 77,
     "metadata": {},
     "output_type": "execute_result"
    }
   ],
   "source": [
    "u^v^w"
   ]
  },
  {
   "cell_type": "code",
   "execution_count": 78,
   "metadata": {},
   "outputs": [
    {
     "data": {
      "text/plain": [
       "(0.28095^e1) + (1.30851^e2)"
      ]
     },
     "execution_count": 78,
     "metadata": {},
     "output_type": "execute_result"
    }
   ],
   "source": [
    "(u*v*w) + (v*w*u) + (w*u*v)"
   ]
  },
  {
   "cell_type": "code",
   "execution_count": null,
   "metadata": {},
   "outputs": [],
   "source": []
  }
 ],
 "metadata": {
  "anaconda-cloud": {},
  "kernelspec": {
   "display_name": "Python 3 (ipykernel)",
   "language": "python",
   "name": "python3"
  },
  "language_info": {
   "codemirror_mode": {
    "name": "ipython",
    "version": 3
   },
   "file_extension": ".py",
   "mimetype": "text/x-python",
   "name": "python",
   "nbconvert_exporter": "python",
   "pygments_lexer": "ipython3",
   "version": "3.9.7"
  }
 },
 "nbformat": 4,
 "nbformat_minor": 1
}
