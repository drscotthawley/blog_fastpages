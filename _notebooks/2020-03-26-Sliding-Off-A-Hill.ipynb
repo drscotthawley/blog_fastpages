{
 "cells": [
  {
   "cell_type": "markdown",
   "metadata": {},
   "source": [
    "# \"Instability: Sliding Off a Hill\"\n",
    "> \"A look at exponential growth in a simple dynamical system\"\n",
    "- toc: true\n",
    "- branch: master\n",
    "- badges: true\n",
    "- comments: true\n",
    "- categories: [physics, coronavirus]\n",
    "- image: images/some_folder/your_image.png\n",
    "- hide: true\n",
    "- search_exclude: true\n",
    "- metadata_key1: metadata_value1\n",
    "- metadata_key2: metadata_value2"
   ]
  },
  {
   "cell_type": "markdown",
   "metadata": {},
   "source": [
    "## Intro\n",
    "Given that we often speak of “rolling off the top of a hill” as a metaphor for instability & subsequent exponential growth...**TODO: say more...**\n",
    "\n",
    "(I’m sure the following problem is in a book somewhere, but I “made it up” today while thinking about instabilities, and was pleased at the compact form of the result. The factor of 1/2 at the start makes things cleaner later.)"
   ]
  },
  {
   "cell_type": "markdown",
   "metadata": {},
   "source": [
    "## Problem\n",
    "Show, for a particle starting at $x=0$ and constrained to slide frictionlessly along a parabola given by \n",
    "$y = -\\frac{1}{2}a x^2$, in the presence of a uniform downward vertical gravitational field $g$, that the $x-$component of its speed as a function of time is given by\n",
    "$$v_x(t) = v_0 \\cosh\\left(t\\sqrt{ga}\\right),$$\n",
    "where $v_0$ is the initial velocity.\n",
    "\n",
    "**^^NO that's wrong.  This result is incorrect.  Will need to re-do this whole thing.**\n",
    "\n"
   ]
  },
  {
   "cell_type": "markdown",
   "metadata": {},
   "source": [
    "## Solution\n",
    "<details>\n",
    "  <summary>Click to expand!</summary>\n",
    "\n",
    " **EDIT: I made a mistake in my derivation. Will need to re-do this whole thing.** \n",
    "    \n",
    "One may be tempted to start with Lagrange Multipliers, or a Hamiltonian approach, but I find that these just give you nonlinear ODEs that look kind of 'nasty,' but if you keep things 'simple' and just start wth Conservation of Energy, the solution's not bad! \n",
    "\n",
    "$$ \\frac{1}{2} m v_0^2 = \\frac{1}{2}m v^2 + m g y.$$\n",
    "Multiplying by $2/m$ and substituting for $y$ gives us\n",
    "$$  v_0^2 =  v^2 - g a x^2 $$\n",
    "From this we get \n",
    "$$ ga x^2 + v_0^2 = v^2 = ga \\left( x^2 + {v_0^2\\over ga}\\right),$$\n",
    "or \n",
    "$$ v = \\sqrt{ga}\\sqrt{x^2 + b^2},$$\n",
    "where we let $b \\equiv v_0 / \\sqrt{ga}$.\n",
    "    \n",
    "**The place where I made a mistake was next:  \"Since $ v = dx/dt$\"** but that is not true, $v = ds/dt$ where $s$ is the tangential speed at any time.  Woops.  My other approaches with Lagrangians and Hamiltonians did this properly, which is why they produced equations that were so hard to solve!  Ooops.  \n",
    "    \n",
    "...The corrected solution ends up involving elliptic integrals! Not fun. \n",
    "</details>\n"
   ]
  },
  {
   "cell_type": "markdown",
   "metadata": {},
   "source": [
    "## Commentary\n",
    "Sure, you could instead solve for the total speed (i.e., tangent to the parabola), or various other quantities, but none of these seemed to take on a ‘pleasing,’ compact form IMHO."
   ]
  },
  {
   "cell_type": "code",
   "execution_count": null,
   "metadata": {},
   "outputs": [],
   "source": []
  }
 ],
 "metadata": {
  "kernelspec": {
   "display_name": "Python 3",
   "language": "python",
   "name": "python3"
  },
  "language_info": {
   "codemirror_mode": {
    "name": "ipython",
    "version": 3
   },
   "file_extension": ".py",
   "mimetype": "text/x-python",
   "name": "python",
   "nbconvert_exporter": "python",
   "pygments_lexer": "ipython3",
   "version": "3.6.9"
  }
 },
 "nbformat": 4,
 "nbformat_minor": 4
}
